{
  "nbformat": 4,
  "nbformat_minor": 0,
  "metadata": {
    "colab": {
      "name": "Tweet Sentiment Extraction v1.ipynb",
      "provenance": [],
      "collapsed_sections": [],
      "toc_visible": true,
      "authorship_tag": "ABX9TyMQxldwIyFqFe/y7Ss003ZE"
    },
    "kernelspec": {
      "name": "python3",
      "display_name": "Python 3"
    }
  },
  "cells": [
    {
      "cell_type": "markdown",
      "metadata": {
        "id": "YPDMiQLL4V8o"
      },
      "source": [
        "# Introduction\n",
        "\n",
        "A list of tweets have been classified as either neutral, negative, or positive.  The model predicts selected text in the tweets that determines the classified sentiment.\n",
        "\n",
        "https://www.kaggle.com/c/tweet-sentiment-extraction/overview/evaluation\n",
        "\n",
        "X = text, sentiment\n",
        "\n",
        "y = selected_text\n"
      ]
    },
    {
      "cell_type": "markdown",
      "metadata": {
        "id": "mr7jZBIx3xRG"
      },
      "source": [
        "# Libraries\n"
      ]
    },
    {
      "cell_type": "markdown",
      "metadata": {
        "id": "z1AOJIh25-8P"
      },
      "source": [
        "### Public libraries"
      ]
    },
    {
      "cell_type": "code",
      "metadata": {
        "colab": {
          "base_uri": "https://localhost:8080/"
        },
        "id": "vP5hJorF3tRc",
        "outputId": "e99a1733-c085-4172-c408-b0b4be29995a"
      },
      "source": [
        "import pandas as pd\n",
        "import numpy as np\n",
        "import random\n",
        "\n",
        "# seaborn\n",
        "import seaborn as sns\n",
        "\n",
        "# nltk library\n",
        "import nltk\n",
        "from nltk.tokenize import sent_tokenize, word_tokenize\n",
        "from nltk import FreqDist\n",
        "from nltk import classify\n",
        "from nltk import NaiveBayesClassifier\n",
        "nltk.download('wordnet')\n",
        "nltk.download('averaged_perceptron_tagger')\n",
        "\n",
        "# keras\n",
        "from keras import layers"
      ],
      "execution_count": null,
      "outputs": [
        {
          "output_type": "stream",
          "text": [
            "[nltk_data] Downloading package wordnet to /root/nltk_data...\n",
            "[nltk_data]   Package wordnet is already up-to-date!\n",
            "[nltk_data] Downloading package averaged_perceptron_tagger to\n",
            "[nltk_data]     /root/nltk_data...\n",
            "[nltk_data]   Package averaged_perceptron_tagger is already up-to-\n",
            "[nltk_data]       date!\n"
          ],
          "name": "stdout"
        }
      ]
    },
    {
      "cell_type": "markdown",
      "metadata": {
        "id": "G2x11Klr6C3g"
      },
      "source": [
        "### Custom functions"
      ]
    },
    {
      "cell_type": "code",
      "metadata": {
        "id": "6hnCJ6nwVRpq"
      },
      "source": [
        "def clean_text(tokenized_sentence):\n",
        "  \"\"\"\n",
        "  Input = list of strings that is tokenized sentence \n",
        "\n",
        "  Return = list of strings that is a lower case tokenized sentence\n",
        "  \"\"\"\n",
        "  lower_case_words = []\n",
        "  for words in tokenized_sentence:\n",
        "    lower_case_words.append(words.lower())\n",
        "\n",
        "  return lower_case_words"
      ],
      "execution_count": null,
      "outputs": []
    },
    {
      "cell_type": "markdown",
      "metadata": {
        "id": "RTd225SEKPRz"
      },
      "source": [
        "### Score function"
      ]
    },
    {
      "cell_type": "code",
      "metadata": {
        "id": "8g0G5Xd3KO0C"
      },
      "source": [
        "# Compares the words between actual and prediction\n",
        "def jaccard(str1, str2): \n",
        "    a = set(str1.lower().split()) \n",
        "    b = set(str2.lower().split())\n",
        "    c = a.intersection(b)\n",
        "    return float(len(c)) / (len(a) + len(b) - len(c))\n",
        "\n",
        "# Same function except for already tokenized text\n",
        "def jaccard_token(str1, str2): \n",
        "    a = set(str1) \n",
        "    b = set(str2)\n",
        "    c = a.intersection(b)\n",
        "    return float(len(c)) / (len(a) + len(b) - len(c))"
      ],
      "execution_count": null,
      "outputs": []
    },
    {
      "cell_type": "markdown",
      "metadata": {
        "id": "LagwUe5V36-Y"
      },
      "source": [
        "# EDA\n"
      ]
    },
    {
      "cell_type": "markdown",
      "metadata": {
        "id": "d_ZDDdqp3_3a"
      },
      "source": [
        "### Data Structure"
      ]
    },
    {
      "cell_type": "code",
      "metadata": {
        "colab": {
          "base_uri": "https://localhost:8080/"
        },
        "id": "HxFjEMcJ4CHd",
        "outputId": "98581d4c-5645-4008-e6ef-51a9d84d6a73"
      },
      "source": [
        "# Load the dataset\n",
        "train = pd.read_csv('https://raw.githubusercontent.com/sli0111/tweet_sentiment_extraction/main/train.csv')\n",
        "train.head(10)\n",
        "print(train.shape)"
      ],
      "execution_count": null,
      "outputs": [
        {
          "output_type": "stream",
          "text": [
            "(27481, 4)\n"
          ],
          "name": "stdout"
        }
      ]
    },
    {
      "cell_type": "markdown",
      "metadata": {
        "id": "5btv8TFtdBID"
      },
      "source": [
        "Notice that for text that are considered neutral, the selected text is just the text."
      ]
    },
    {
      "cell_type": "code",
      "metadata": {
        "colab": {
          "base_uri": "https://localhost:8080/",
          "height": 80
        },
        "id": "_D8V95kx5mt6",
        "outputId": "173923bb-0b1c-4514-a959-3e0845564a63"
      },
      "source": [
        "# Check for missing values\n",
        "np.sum(train.isna())\n",
        "\n",
        "train[train['text'].isna()]"
      ],
      "execution_count": null,
      "outputs": [
        {
          "output_type": "execute_result",
          "data": {
            "text/html": [
              "<div>\n",
              "<style scoped>\n",
              "    .dataframe tbody tr th:only-of-type {\n",
              "        vertical-align: middle;\n",
              "    }\n",
              "\n",
              "    .dataframe tbody tr th {\n",
              "        vertical-align: top;\n",
              "    }\n",
              "\n",
              "    .dataframe thead th {\n",
              "        text-align: right;\n",
              "    }\n",
              "</style>\n",
              "<table border=\"1\" class=\"dataframe\">\n",
              "  <thead>\n",
              "    <tr style=\"text-align: right;\">\n",
              "      <th></th>\n",
              "      <th>textID</th>\n",
              "      <th>text</th>\n",
              "      <th>selected_text</th>\n",
              "      <th>sentiment</th>\n",
              "    </tr>\n",
              "  </thead>\n",
              "  <tbody>\n",
              "    <tr>\n",
              "      <th>314</th>\n",
              "      <td>fdb77c3752</td>\n",
              "      <td>NaN</td>\n",
              "      <td>NaN</td>\n",
              "      <td>neutral</td>\n",
              "    </tr>\n",
              "  </tbody>\n",
              "</table>\n",
              "</div>"
            ],
            "text/plain": [
              "         textID text selected_text sentiment\n",
              "314  fdb77c3752  NaN           NaN   neutral"
            ]
          },
          "metadata": {
            "tags": []
          },
          "execution_count": 5
        }
      ]
    },
    {
      "cell_type": "code",
      "metadata": {
        "colab": {
          "base_uri": "https://localhost:8080/"
        },
        "id": "VuzdGO-OE37L",
        "outputId": "e324572c-68b3-4b2d-f79b-a628675ab72b"
      },
      "source": [
        "# Replace row 314 with 0\n",
        "train = train.fillna('0')\n",
        "np.sum(train.isna())"
      ],
      "execution_count": null,
      "outputs": [
        {
          "output_type": "execute_result",
          "data": {
            "text/plain": [
              "textID           0\n",
              "text             0\n",
              "selected_text    0\n",
              "sentiment        0\n",
              "dtype: int64"
            ]
          },
          "metadata": {
            "tags": []
          },
          "execution_count": 6
        }
      ]
    },
    {
      "cell_type": "code",
      "metadata": {
        "colab": {
          "base_uri": "https://localhost:8080/"
        },
        "id": "Lo8yV7zS6df1",
        "outputId": "929a5ed0-5e48-47a1-8b9e-68c4744290ba"
      },
      "source": [
        "# All text objects\n",
        "train.dtypes"
      ],
      "execution_count": null,
      "outputs": [
        {
          "output_type": "execute_result",
          "data": {
            "text/plain": [
              "textID           object\n",
              "text             object\n",
              "selected_text    object\n",
              "sentiment        object\n",
              "dtype: object"
            ]
          },
          "metadata": {
            "tags": []
          },
          "execution_count": 7
        }
      ]
    },
    {
      "cell_type": "code",
      "metadata": {
        "colab": {
          "base_uri": "https://localhost:8080/"
        },
        "id": "Bywlld-B7ezs",
        "outputId": "b9c1dc49-3409-45e3-b4e6-fc79fa4d1c27"
      },
      "source": [
        "# Total unique IDs match total rows\n",
        "train.shape[0] == np.sum(np.unique(train['textID'], return_counts=True)[1])"
      ],
      "execution_count": null,
      "outputs": [
        {
          "output_type": "execute_result",
          "data": {
            "text/plain": [
              "True"
            ]
          },
          "metadata": {
            "tags": []
          },
          "execution_count": 8
        }
      ]
    },
    {
      "cell_type": "markdown",
      "metadata": {
        "id": "VLVC_4Ra8FnR"
      },
      "source": [
        "Overall the data is clean.  Each row is a unique ID.  Removed one missing row of data."
      ]
    },
    {
      "cell_type": "markdown",
      "metadata": {
        "id": "94z8bPF47Wbl"
      },
      "source": [
        "### Data"
      ]
    },
    {
      "cell_type": "code",
      "metadata": {
        "colab": {
          "base_uri": "https://localhost:8080/",
          "height": 296
        },
        "id": "Kcq-oXKS8FG7",
        "outputId": "3fb5ce1c-5808-44c6-b060-339028a2d680"
      },
      "source": [
        "# Distribution of sentiment - a lot of neutrals\n",
        "sns.histplot(y='sentiment', data=train)"
      ],
      "execution_count": null,
      "outputs": [
        {
          "output_type": "execute_result",
          "data": {
            "text/plain": [
              "<matplotlib.axes._subplots.AxesSubplot at 0x7fbfc834bcf8>"
            ]
          },
          "metadata": {
            "tags": []
          },
          "execution_count": 9
        },
        {
          "output_type": "display_data",
          "data": {
            "image/png": "[encoded data removed]",
            "text/plain": [
              "<Figure size 432x288 with 1 Axes>"
            ]
          },
          "metadata": {
            "tags": [],
            "needs_background": "light"
          }
        }
      ]
    },
    {
      "cell_type": "markdown",
      "metadata": {
        "id": "xRp9znf8c2KW"
      },
      "source": [
        "The figure above shows the that majority of the text are considered netural."
      ]
    },
    {
      "cell_type": "code",
      "metadata": {
        "id": "NOFRtYcG9XM6",
        "colab": {
          "base_uri": "https://localhost:8080/",
          "height": 272
        },
        "outputId": "232a3e0b-5a6b-4c3a-bc0c-2d6f90197f34"
      },
      "source": [
        "# Convert the selected_text to word tokens\n",
        "word_tokens = [word_tokenize(str(i)) for i in train['selected_text']]\n",
        "clean_tokens = [clean_text(i) for i in word_tokens]\n",
        "train['selected_text_tokens'] = clean_tokens\n",
        "\n",
        "# Convert the text to word tokens\n",
        "word_tokens = [word_tokenize(str(i)) for i in train['text']]\n",
        "clean_tokens = [clean_text(i) for i in word_tokens]\n",
        "train['text_tokens'] = clean_tokens\n",
        "\n",
        "train.head(5)\n"
      ],
      "execution_count": null,
      "outputs": [
        {
          "output_type": "execute_result",
          "data": {
            "text/html": [
              "<div>\n",
              "<style scoped>\n",
              "    .dataframe tbody tr th:only-of-type {\n",
              "        vertical-align: middle;\n",
              "    }\n",
              "\n",
              "    .dataframe tbody tr th {\n",
              "        vertical-align: top;\n",
              "    }\n",
              "\n",
              "    .dataframe thead th {\n",
              "        text-align: right;\n",
              "    }\n",
              "</style>\n",
              "<table border=\"1\" class=\"dataframe\">\n",
              "  <thead>\n",
              "    <tr style=\"text-align: right;\">\n",
              "      <th></th>\n",
              "      <th>textID</th>\n",
              "      <th>text</th>\n",
              "      <th>selected_text</th>\n",
              "      <th>sentiment</th>\n",
              "      <th>selected_text_tokens</th>\n",
              "      <th>text_tokens</th>\n",
              "    </tr>\n",
              "  </thead>\n",
              "  <tbody>\n",
              "    <tr>\n",
              "      <th>0</th>\n",
              "      <td>cb774db0d1</td>\n",
              "      <td>I`d have responded, if I were going</td>\n",
              "      <td>I`d have responded, if I were going</td>\n",
              "      <td>neutral</td>\n",
              "      <td>[i`d, have, responded, ,, if, i, were, going]</td>\n",
              "      <td>[i`d, have, responded, ,, if, i, were, going]</td>\n",
              "    </tr>\n",
              "    <tr>\n",
              "      <th>1</th>\n",
              "      <td>549e992a42</td>\n",
              "      <td>Sooo SAD I will miss you here in San Diego!!!</td>\n",
              "      <td>Sooo SAD</td>\n",
              "      <td>negative</td>\n",
              "      <td>[sooo, sad]</td>\n",
              "      <td>[sooo, sad, i, will, miss, you, here, in, san,...</td>\n",
              "    </tr>\n",
              "    <tr>\n",
              "      <th>2</th>\n",
              "      <td>088c60f138</td>\n",
              "      <td>my boss is bullying me...</td>\n",
              "      <td>bullying me</td>\n",
              "      <td>negative</td>\n",
              "      <td>[bullying, me]</td>\n",
              "      <td>[my, boss, is, bullying, me, ...]</td>\n",
              "    </tr>\n",
              "    <tr>\n",
              "      <th>3</th>\n",
              "      <td>9642c003ef</td>\n",
              "      <td>what interview! leave me alone</td>\n",
              "      <td>leave me alone</td>\n",
              "      <td>negative</td>\n",
              "      <td>[leave, me, alone]</td>\n",
              "      <td>[what, interview, !, leave, me, alone]</td>\n",
              "    </tr>\n",
              "    <tr>\n",
              "      <th>4</th>\n",
              "      <td>358bd9e861</td>\n",
              "      <td>Sons of ****, why couldn`t they put them on t...</td>\n",
              "      <td>Sons of ****,</td>\n",
              "      <td>negative</td>\n",
              "      <td>[sons, of, ****, ,]</td>\n",
              "      <td>[sons, of, ****, ,, why, couldn`t, they, put, ...</td>\n",
              "    </tr>\n",
              "  </tbody>\n",
              "</table>\n",
              "</div>"
            ],
            "text/plain": [
              "       textID  ...                                        text_tokens\n",
              "0  cb774db0d1  ...      [i`d, have, responded, ,, if, i, were, going]\n",
              "1  549e992a42  ...  [sooo, sad, i, will, miss, you, here, in, san,...\n",
              "2  088c60f138  ...                  [my, boss, is, bullying, me, ...]\n",
              "3  9642c003ef  ...             [what, interview, !, leave, me, alone]\n",
              "4  358bd9e861  ...  [sons, of, ****, ,, why, couldn`t, they, put, ...\n",
              "\n",
              "[5 rows x 6 columns]"
            ]
          },
          "metadata": {
            "tags": []
          },
          "execution_count": 10
        }
      ]
    },
    {
      "cell_type": "code",
      "metadata": {
        "colab": {
          "base_uri": "https://localhost:8080/"
        },
        "id": "hTAbknWDkDYf",
        "outputId": "d17ba601-8f70-4991-9ad9-db5169bfa235"
      },
      "source": [
        "def get_all_words(tokens_list):\n",
        "  for tokens in tokens_list:\n",
        "    for token in tokens:\n",
        "      yield token\n",
        "\n",
        "pos_train = train[train['sentiment'] == 'positive']\n",
        "neg_train = train[train['sentiment'] == 'negative']\n",
        "\n",
        "all_pos_words = get_all_words(pos_train['text_tokens'])\n",
        "all_neg_words = get_all_words(neg_train['text_tokens'])\n",
        "\n",
        "print(FreqDist(all_pos_words).most_common(10))\n",
        "print(FreqDist(all_neg_words).most_common(10))"
      ],
      "execution_count": null,
      "outputs": [
        {
          "output_type": "stream",
          "text": [
            "[('!', 6629), ('.', 4440), ('i', 3773), ('the', 2996), ('to', 2975), (',', 2812), ('a', 2385), ('you', 2075), ('and', 1678), ('my', 1485)]\n",
            "[('i', 4586), ('.', 4580), ('!', 3918), ('to', 2893), ('the', 2454), (',', 2319), ('my', 2035), ('a', 1807), ('...', 1707), ('and', 1579)]\n"
          ],
          "name": "stdout"
        }
      ]
    },
    {
      "cell_type": "markdown",
      "metadata": {
        "id": "uI90AxgIZjJe"
      },
      "source": [
        "# Baseline Model"
      ]
    },
    {
      "cell_type": "markdown",
      "metadata": {
        "id": "aXXBbjaAZq_U"
      },
      "source": [
        "A Naive Bayes Classifier will be used as a first model below"
      ]
    },
    {
      "cell_type": "markdown",
      "metadata": {
        "id": "HxtcDn_BZopB"
      },
      "source": [
        "### Create dictionaries for each tweet"
      ]
    },
    {
      "cell_type": "code",
      "metadata": {
        "id": "BKRfm_kKqZpF"
      },
      "source": [
        "# Returns a generative object of dictionaries\n",
        "# Tags True for the sentiment the text belongs to\n",
        "def get_tweets_for_model(cleaned_tokens_list):\n",
        "  for tweet_tokens in cleaned_tokens_list:\n",
        "    yield dict([token, True] for token in tweet_tokens)\n",
        "                                                 "
      ],
      "execution_count": null,
      "outputs": []
    },
    {
      "cell_type": "code",
      "metadata": {
        "colab": {
          "base_uri": "https://localhost:8080/"
        },
        "id": "kr9tKEVG_YXb",
        "outputId": "10ea0527-834f-4dc1-f292-f1c5fab2bd1c"
      },
      "source": [
        "# Add the dictionaries to the train dataframe to ease of visualization\n",
        "train['tokens_for_model'] = [(tweet_dict, train['sentiment'][i]) \n",
        "                              for i, tweet_dict in enumerate(get_tweets_for_model(train['text_tokens']))]\n",
        "train['tokens_for_model']\n",
        "                            "
      ],
      "execution_count": null,
      "outputs": [
        {
          "output_type": "execute_result",
          "data": {
            "text/plain": [
              "0        ({'i`d': True, 'have': True, 'responded': True...\n",
              "1        ({'sooo': True, 'sad': True, 'i': True, 'will'...\n",
              "2        ({'my': True, 'boss': True, 'is': True, 'bully...\n",
              "3        ({'what': True, 'interview': True, '!': True, ...\n",
              "4        ({'sons': True, 'of': True, '****': True, ',':...\n",
              "                               ...                        \n",
              "27476    ({'wish': True, 'we': True, 'could': True, 'co...\n",
              "27477    ({'i`ve': True, 'wondered': True, 'about': Tru...\n",
              "27478    ({'yay': True, 'good': True, 'for': True, 'bot...\n",
              "27479    ({'but': True, 'it': True, 'was': True, 'worth...\n",
              "27480    ({'all': True, 'this': True, 'flirting': True,...\n",
              "Name: tokens_for_model, Length: 27481, dtype: object"
            ]
          },
          "metadata": {
            "tags": []
          },
          "execution_count": 13
        }
      ]
    },
    {
      "cell_type": "markdown",
      "metadata": {
        "id": "hDKI62B6sxAo"
      },
      "source": [
        "### Split Train Dev"
      ]
    },
    {
      "cell_type": "code",
      "metadata": {
        "id": "iXapD94-sDPs"
      },
      "source": [
        "# Ignore the neutral values\n",
        "train_data = train[train['sentiment'] != 'neutral'][:13000]\n",
        "dev_data = train[train['sentiment'] != 'neutral'][13000:]\n",
        "\n",
        "# Split to train\n",
        "X_train = list(train_data['tokens_for_model'])\n",
        "sentiment_train = list(train_data['sentiment'])\n",
        "y_train = list(train_data['selected_text'])\n",
        "y_train_tokens = list(train_data['selected_text_tokens'])\n",
        "\n",
        "# Split to dev\n",
        "X_dev = list(dev_data['tokens_for_model'])\n",
        "sentiment_dev = list(dev_data['sentiment'])\n",
        "y_dev = list(dev_data['selected_text'])\n",
        "y_dev_tokens = list(dev_data['selected_text_tokens'])"
      ],
      "execution_count": null,
      "outputs": []
    },
    {
      "cell_type": "markdown",
      "metadata": {
        "id": "0hUW5dMXJNOg"
      },
      "source": [
        "### Model"
      ]
    },
    {
      "cell_type": "code",
      "metadata": {
        "colab": {
          "base_uri": "https://localhost:8080/"
        },
        "id": "qkCOAchWMKNt",
        "outputId": "9692b88c-cabd-4804-8638-2e109ec98c27"
      },
      "source": [
        "# Naive Bayes Classifier\n",
        "classifier = NaiveBayesClassifier.train(X_train)\n",
        "print(\"Accuracy is:\", classify.accuracy(classifier, X_dev))\n",
        "\n",
        "print(classifier.show_most_informative_features())"
      ],
      "execution_count": null,
      "outputs": [
        {
          "output_type": "stream",
          "text": [
            "Accuracy is: 0.8650014867677669\n",
            "Most Informative Features\n",
            "                mother`s = True           positi : negati =     91.2 : 1.0\n",
            "                   sucks = True           negati : positi =     61.6 : 1.0\n",
            "                   thank = True           positi : negati =     50.4 : 1.0\n",
            "                     sad = True           negati : positi =     50.3 : 1.0\n",
            "                    hate = True           negati : positi =     48.9 : 1.0\n",
            "                   bored = True           negati : positi =     43.3 : 1.0\n",
            "                 welcome = True           positi : negati =     43.1 : 1.0\n",
            "                    moms = True           positi : negati =     38.4 : 1.0\n",
            "                 awesome = True           positi : negati =     36.1 : 1.0\n",
            "                   hurts = True           negati : positi =     33.8 : 1.0\n",
            "None\n"
          ],
          "name": "stdout"
        }
      ]
    },
    {
      "cell_type": "code",
      "metadata": {
        "id": "054BHDbP5di9"
      },
      "source": [
        "# Returns the tokens and/or index with highest probability in each sentiment\n",
        "def high_word_sentiment(sent_dict, label, threshold):\n",
        "  top_values = [] \n",
        "  index = []  \n",
        "  i = 0\n",
        "  for key, value in sent_dict.items():\n",
        "    word_dict = {key: value}\n",
        "    dist = classifier.prob_classify(word_dict)\n",
        "    if dist.prob(label) > threshold:\n",
        "      top_values.append(key)\n",
        "      index.append(i)\n",
        "    i += 1\n",
        "  return top_values, index"
      ],
      "execution_count": null,
      "outputs": []
    },
    {
      "cell_type": "code",
      "metadata": {
        "id": "2lPgHjfR87Cl"
      },
      "source": [
        "# Returns the prediction of the data based on threshold probability t\n",
        "def baseline_predictions(data, t):\n",
        "  predictions = []\n",
        "  for i in range(len(data)):\n",
        "    guess_word, guess_index = high_word_sentiment(data[i][0], data[i][1], threshold=t)\n",
        "    predictions.append(guess_word)\n",
        "  return predictions"
      ],
      "execution_count": null,
      "outputs": []
    },
    {
      "cell_type": "code",
      "metadata": {
        "colab": {
          "base_uri": "https://localhost:8080/"
        },
        "id": "BB4sH5Q_PTh4",
        "outputId": "2fd5df07-02a3-414b-d38e-1f0222e77739"
      },
      "source": [
        "# Sample predictions\n",
        "baseline_predictions_train = baseline_predictions(X_train, t=0.7)\n",
        "baseline_predictions_dev = baseline_predictions(X_dev, t=0.7)\n",
        "\n",
        "baseline_predictions_train[0:10]"
      ],
      "execution_count": null,
      "outputs": [
        {
          "output_type": "execute_result",
          "data": {
            "text/plain": [
              "[['sad', 'miss', 'diego'],\n",
              " ['bullying'],\n",
              " [],\n",
              " ['****', 'why', 'couldn`t'],\n",
              " ['feedings', 'fun', 'smiles', 'coos'],\n",
              " ['journey', 'wow', 'became', 'cooler', 'hehe'],\n",
              " ['song', 'love', 'taylor', 'swift'],\n",
              " ['sharpie', 'dangerously', 'ink'],\n",
              " ['lost'],\n",
              " ['sunburned']]"
            ]
          },
          "metadata": {
            "tags": []
          },
          "execution_count": 22
        }
      ]
    },
    {
      "cell_type": "code",
      "metadata": {
        "colab": {
          "base_uri": "https://localhost:8080/"
        },
        "id": "kofMovhmQbjq",
        "outputId": "43c09de1-f3c9-4420-bee5-c2fbac4de946"
      },
      "source": [
        "# Relative to actual\n",
        "y_train_tokens[0:10]"
      ],
      "execution_count": null,
      "outputs": [
        {
          "output_type": "execute_result",
          "data": {
            "text/plain": [
              "[['sooo', 'sad'],\n",
              " ['bullying', 'me'],\n",
              " ['leave', 'me', 'alone'],\n",
              " ['sons', 'of', '****', ','],\n",
              " ['fun'],\n",
              " ['wow', '...', 'u', 'just', 'became', 'cooler', '.'],\n",
              " ['like'],\n",
              " ['dangerously'],\n",
              " ['lost'],\n",
              " ['uh', 'oh', ',', 'i', 'am', 'sunburned']]"
            ]
          },
          "metadata": {
            "tags": []
          },
          "execution_count": 25
        }
      ]
    },
    {
      "cell_type": "markdown",
      "metadata": {
        "id": "PxfF4ZiPbKZA"
      },
      "source": [
        "### Model Score"
      ]
    },
    {
      "cell_type": "code",
      "metadata": {
        "colab": {
          "base_uri": "https://localhost:8080/"
        },
        "id": "0EOq6bk4XRl3",
        "outputId": "e298f74d-6b8b-4b2d-c92a-32df992bc1ca"
      },
      "source": [
        "# Jaccuard token score for several thresholds\n",
        "t_values = np.linspace(0.1, 0.9, 5)\n",
        "for t in t_values:\n",
        "  baseline_predictions_train = baseline_predictions(X_train, t=t)\n",
        "\n",
        "  scores = []\n",
        "  num_examples = len(baseline_predictions_train)\n",
        "  for i in range(num_examples):\n",
        "    scores.append(jaccard_token(baseline_predictions_train[i], y_train_tokens[i]))\n",
        "\n",
        "  avg_score = np.sum(scores)/num_examples\n",
        "  print(round(avg_score, 3))"
      ],
      "execution_count": null,
      "outputs": [
        {
          "output_type": "stream",
          "text": [
            "0.332\n",
            "0.329\n",
            "0.297\n",
            "0.285\n",
            "0.23\n"
          ],
          "name": "stdout"
        }
      ]
    },
    {
      "cell_type": "code",
      "metadata": {
        "colab": {
          "base_uri": "https://localhost:8080/"
        },
        "id": "xfc2F5qZg5cG",
        "outputId": "f7d62b20-e398-4379-f491-9e7769e51810"
      },
      "source": [
        "# Similarty for dev\n",
        "t_values = np.linspace(0.1, 0.9, 5)\n",
        "for t in t_values:\n",
        "  baseline_predictions_train = baseline_predictions(X_dev, t=t)\n",
        "\n",
        "  scores = []\n",
        "  num_examples = len(baseline_predictions_dev)\n",
        "  for i in range(num_examples):\n",
        "    scores.append(jaccard_token(baseline_predictions_dev[i], y_dev_tokens[i]))\n",
        "\n",
        "  avg_score = np.sum(scores)/num_examples\n",
        "  print(round(avg_score, 3))"
      ],
      "execution_count": null,
      "outputs": [
        {
          "output_type": "stream",
          "text": [
            "0.3\n",
            "0.3\n",
            "0.3\n",
            "0.3\n",
            "0.3\n"
          ],
          "name": "stdout"
        }
      ]
    },
    {
      "cell_type": "markdown",
      "metadata": {
        "id": "AGpJnQawbNof"
      },
      "source": [
        "# Bert"
      ]
    },
    {
      "cell_type": "code",
      "metadata": {
        "id": "wvtN6x6fWsSK"
      },
      "source": [
        ""
      ],
      "execution_count": null,
      "outputs": []
    },
    {
      "cell_type": "markdown",
      "metadata": {
        "id": "-5KM40liJgqM"
      },
      "source": [
        "# References\n",
        "\n",
        "https://www.digitalocean.com/community/tutorials/how-to-perform-sentiment-analysis-in-python-3-using-the-natural-language-toolkit-nltk"
      ]
    }
  ]
}